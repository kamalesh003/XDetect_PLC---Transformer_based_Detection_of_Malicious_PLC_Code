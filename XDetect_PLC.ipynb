{
 "cells": [
  {
   "cell_type": "code",
   "execution_count": null,
   "metadata": {
    "colab": {
     "base_uri": "https://localhost:8080/"
    },
    "id": "u6hnuguL_r0J",
    "outputId": "80db11d6-a78c-40c0-a048-b15f88c16070"
   },
   "outputs": [],
   "source": [
    "!git clone https://github.com/UniboSecurityResearch/PLC-LD-dataset\n"
   ]
  },
  {
   "cell_type": "code",
   "execution_count": null,
   "metadata": {
    "colab": {
     "base_uri": "https://localhost:8080/"
    },
    "id": "vJNz5aKxrh4u",
    "outputId": "3e31804c-633b-4478-e35b-94425f2c8015"
   },
   "outputs": [],
   "source": [
    "!pip install -q transformers datasets accelerate torch xmltodict evaluate peft optuna wandb scikit-learn\n"
   ]
  },
  {
   "cell_type": "code",
   "execution_count": null,
   "metadata": {
    "colab": {
     "base_uri": "https://localhost:8080/",
     "height": 282
    },
    "id": "DNJ5pjIJrmZT",
    "outputId": "c8d8ce3c-511d-4308-a108-75439fcff2a2"
   },
   "outputs": [],
   "source": [
    "# 2. Imports & Config\n",
    "import os\n",
    "import xmltodict\n",
    "import numpy as np\n",
    "from dataclasses import dataclass\n",
    "from sklearn.model_selection import train_test_split\n",
    "from datasets import Dataset\n",
    "import evaluate\n",
    "import torch\n",
    "from transformers import (\n",
    "    AutoTokenizer,\n",
    "    AutoModelForSequenceClassification,\n",
    "    TrainingArguments,\n",
    "    Trainer,\n",
    "    DataCollatorWithPadding,\n",
    "    set_seed\n",
    ")\n",
    "import wandb\n",
    "\n",
    "@dataclass\n",
    "class Config:\n",
    "    legit_dir: str = \"/content/PLC-LD-dataset/legitimate\"\n",
    "    mal_dir: str   = \"/content/PLC-LD-dataset/malicious\"\n",
    "    model_name: str = \"microsoft/codebert-base\"\n",
    "    output_dir: str = \"/content/model_output\"\n",
    "    max_length: int = 512\n",
    "    train_batch_size: int = 16\n",
    "    eval_batch_size: int  = 32\n",
    "    epochs: int     = 100\n",
    "    lr: float       = 2e-5\n",
    "    weight_decay: float = 0.01\n",
    "    seed: int       = 42\n",
    "    eval_split: float = 0.2\n",
    "    accum_steps: int = 2\n",
    "    fp16: bool      = True\n",
    "    logging_steps: int = 100\n",
    "    save_steps: int    = 500\n",
    "    project_name: str = \"PLC-LD-Detection\"\n",
    "\n",
    "cfg = Config()\n",
    "set_seed(cfg.seed)\n",
    "\n",
    "# Initialize Weights & Biases\n",
    "wandb.init(project=cfg.project_name, config=vars(cfg))"
   ]
  },
  {
   "cell_type": "code",
   "execution_count": null,
   "metadata": {
    "colab": {
     "base_uri": "https://localhost:8080/",
     "height": 397,
     "referenced_widgets": [
      "765ada8267724bd7abeb80033be7b6b4",
      "6a53aa84537a43d19246fe324fe5e097",
      "9eb2764cad8c402ab217103f19421beb",
      "6473e4911b0549ab80c704ae0c29d34a",
      "67d8854fc1534c108160b3b635891e8c",
      "f45cd389f7e9401b91e67362be239636",
      "375cb457e1ad4898ac22683b0e4ca8f3",
      "37665d3797cf49eea832d2ecb850e0a7",
      "cdb432919c37470099d2caa8967b5a4a",
      "2a7a6bff74a94d88aa72ef13cfe1a65c",
      "aa3badd630664b159fcf5d28235ef75f",
      "54cbe008e20c4b9d870ea63e9475b994",
      "b46572f104d0479286bc93c9526393fa",
      "52f87d588ce54a039d2a9a74847c48eb",
      "976fad5aa35845df9cb06c13bf008412",
      "edd447c33fcf4ab19e5531e7e61764a2",
      "6b2f4170e5e749f79993a5ffdbaf656c",
      "9c5f4a6fd2c1470c9d840db0abb526f1",
      "631e85ae01ed47b4b2121275c99105a4",
      "620baa048dbd43759bd665a64adcaf6e",
      "5c15659e3acf45fbaecb8c94f95329aa",
      "f4859be1f4f44dc99797376598946344",
      "515687e423884d6ebe2288a796ef4794",
      "0af3d13c7fa642d19a9966b0d9a63549",
      "1ce5a46152434e16ad64fccccbccd286",
      "80218799d38d4342aaed5662563c3ef9",
      "2739753f6a5c44ceaa8b4563f7ef0152",
      "aa7a9fcbe7fd43de84cb46cce0a886e5",
      "a4fe67f970e64d45abb571c3ac8cd218",
      "7efce4563c904a338e4eafbfbd8f0459",
      "db3fdf76d0ce4aa89e3d27104a8c8bfa",
      "937939dcea964ebc98e55b2e7ad82150",
      "31c23382fbe6407980fd55aee13c04a6",
      "e412e6ead1a54479aea05bd546becb69",
      "ab7a3573f1154c90b923a891eea9dde1",
      "c329b3db850e446da75c155262dc8340",
      "ce75132940114800ac11b5bf2c9467c2",
      "4c8a2164cadc4a46986b4297af57fb9f",
      "3f63d549dd204c0b9787480b48197239",
      "ed872306bccb415cb83f0fa6301ea0cd",
      "b095322900fd4a90910a160d534e9c62",
      "a8bcfdf9394f4c43a75c4a67e1430e61",
      "ac5057ae64a841ae83dc12472f6eb165",
      "8df13a812fe34d40b83a0e489ebfb439",
      "a737dd2762224f97bb78c527c7fa9df8",
      "02b5ef03a0a849c9b9435c4cbff38bf8",
      "dc350f58b2ab4c7dbab525ab3954c359",
      "c7627d14b0014b0d817e49889acf18fc",
      "a96f86d4c5a3432ab31763b077469d0b",
      "b22ce5c059a448858327e1799f371a52",
      "6f6370b49fb346d9a4b6a6e28be7c655",
      "7a2c49f29a5a4c60b7ae0a0c7df47244",
      "cc521d8dd3444bc08ea798fcee852a1a",
      "0988005c4a6f4289b4bc5e333ea7981f",
      "71e8a72ed3d345ed87196d2d4fde2d16",
      "d6d7cb4392914606bbfb5672c1d66918",
      "76b2fd5de52d4c099ad774291c519c3d",
      "1eda3bd97fd74922b6e49ec82543616f",
      "7ba6bc8b649641628bb6fe601580cc34",
      "ffb1ff497d29448ca86253174c09cb8e",
      "9f602b7eb42f4f4ca0755d882a2f9a1c",
      "9cd6e084637348aab4c2a9a0998f2015",
      "023e94c5fa0741bfa3b42aae472e254e",
      "826c21e2910948b085a97a8ed721181e",
      "42ecb415872d44d782ed68d8aa0d37f0",
      "8f982ab9304c44d4a3faa8139022c375",
      "805065e07c334a20a3b88b825651955e",
      "b358446d73c648049f2ed724294b3c8c",
      "e6606fda92d64512b611bd747b2fa7ad",
      "f9b63885060d4741b30a3f03cf8c2c2b",
      "751fe2d2e98e44d690643d910d4de2fc",
      "f668c77995c140549ce3e8841429f35a",
      "1e3a326f712049c688df68aea19ab90c",
      "d0802b39020a403f8aa3d2af63bd58db",
      "460b989edf6744e68ad61c47832f69f5",
      "42ecf1bcb7ae4cdcb185ccd678fb26a0",
      "d28500a455eb467ebd366071b73bb050",
      "dfe46940f96f49ab8c47e2521b38b724",
      "356b9a1bedd54c198b5ed8a5682c5032",
      "c5b84ffd21de482881a9b193a5d7a842",
      "e784584576d8494b80558c88459d7c5f",
      "e8c2a0e2629a42cb81c2735585f8a7b5",
      "7ce4bc2d8e32483fbb3ae8db23c64a89",
      "b33a711f4d8340d49b4d3becbfda982a",
      "f37c04555269439ea2ddc01c4030785b",
      "937c6038337949d4b585887006bdbb11",
      "f39bfb97887e4775ae2fc7d26686b134",
      "c82e86561aeb4116a7a49f18a4b773ac"
     ]
    },
    "id": "5-ots4VasSuH",
    "outputId": "ebd99946-0a58-4d32-9edd-6812c4066aec"
   },
   "outputs": [],
   "source": [
    "# 3. Load and Prepare Data\n",
    "\n",
    "def xml_to_text(path):\n",
    "    with open(path, 'r', encoding='utf-8') as f:\n",
    "        return str(xmltodict.parse(f.read()))\n",
    "\n",
    "texts, labels = [], []\n",
    "for fn in os.listdir(cfg.legit_dir):\n",
    "    if fn.endswith('.xml') and fn.startswith('l'):\n",
    "        legit_path = os.path.join(cfg.legit_dir, fn)\n",
    "        mal_path   = os.path.join(cfg.mal_dir, 'm'+fn[1:])\n",
    "        if os.path.exists(mal_path):\n",
    "            texts.append(xml_to_text(legit_path)); labels.append(0)\n",
    "            texts.append(xml_to_text(mal_path));   labels.append(1)\n",
    "\n",
    "train_texts, val_texts, train_labels, val_labels = train_test_split(\n",
    "    texts, labels, test_size=cfg.eval_split, random_state=cfg.seed, stratify=labels\n",
    ")\n",
    "\n",
    "dataset = Dataset.from_dict({\n",
    "    'text': train_texts + val_texts,\n",
    "    'label': train_labels + val_labels\n",
    "})\n",
    "\n",
    "# 4. Tokenization\n",
    "\n",
    "tokenizer = AutoTokenizer.from_pretrained(cfg.model_name)\n",
    "\n",
    "def preprocess(examples):\n",
    "    enc = tokenizer(\n",
    "        examples['text'], padding='max_length', truncation=True,\n",
    "        max_length=cfg.max_length\n",
    "    )\n",
    "    enc['labels'] = examples['label']\n",
    "    return enc\n",
    "\n",
    "dataset = dataset.map(preprocess, batched=True)\n",
    "\n",
    "dataset = dataset.train_test_split(test_size=len(val_texts), seed=cfg.seed)\n",
    "train_dataset = dataset['train']\n",
    "eval_dataset  = dataset['test']\n",
    "\n",
    "data_collator = DataCollatorWithPadding(tokenizer)\n",
    "\n",
    "# 5. Metrics\n",
    "metric_acc = evaluate.load('accuracy')\n",
    "metric_f1  = evaluate.load('f1')\n",
    "def compute_metrics(pred):\n",
    "    logits, labels = pred\n",
    "    preds = np.argmax(logits, axis=-1)\n",
    "    return {\n",
    "        **metric_acc.compute(predictions=preds, references=labels),\n",
    "        **metric_f1.compute(predictions=preds, references=labels, average='weighted')\n",
    "    }\n",
    "\n",
    "# 6. TrainingArguments & Trainer\n",
    "training_args = TrainingArguments(\n",
    "    output_dir=cfg.output_dir,\n",
    "    num_train_epochs=cfg.epochs,\n",
    "    per_device_train_batch_size=cfg.train_batch_size,\n",
    "    per_device_eval_batch_size=cfg.eval_batch_size,\n",
    "    gradient_accumulation_steps=cfg.accum_steps,\n",
    "    learning_rate=cfg.lr,\n",
    "    weight_decay=cfg.weight_decay,\n",
    "    fp16=cfg.fp16,\n",
    "    logging_steps=cfg.logging_steps,\n",
    "    save_steps=cfg.save_steps,\n",
    "    seed=cfg.seed,\n",
    "    report_to=\"wandb\"\n",
    ")"
   ]
  },
  {
   "cell_type": "code",
   "execution_count": null,
   "metadata": {
    "colab": {
     "base_uri": "https://localhost:8080/"
    },
    "id": "3uSm8UYLsYU1",
    "outputId": "96071519-9d53-4780-a523-2348dfd299fd"
   },
   "outputs": [],
   "source": [
    "model = AutoModelForSequenceClassification.from_pretrained(cfg.model_name, num_labels=2)\n",
    "\n",
    "trainer = Trainer(\n",
    "    model=model,\n",
    "    args=training_args,\n",
    "    train_dataset=train_dataset,\n",
    "    eval_dataset=eval_dataset,\n",
    "    tokenizer=tokenizer,\n",
    "    data_collator=data_collator,\n",
    "    compute_metrics=compute_metrics\n",
    ")\n"
   ]
  },
  {
   "cell_type": "code",
   "execution_count": null,
   "metadata": {
    "colab": {
     "base_uri": "https://localhost:8080/",
     "height": 286
    },
    "id": "6reKZr0jt0Tv",
    "outputId": "a6dcbaa5-bb4b-4267-a165-4089abd49b8d"
   },
   "outputs": [],
   "source": [
    "# 7. Train & Evaluate\n",
    "trainer.train()\n",
    "eval_results = trainer.evaluate()\n",
    "print(\"Evaluation Results:\", eval_results)"
   ]
  },
  {
   "cell_type": "code",
   "execution_count": null,
   "metadata": {
    "colab": {
     "base_uri": "https://localhost:8080/"
    },
    "id": "NU6Who_Xt5wh",
    "outputId": "1584300d-c2a7-4c89-f0a5-cda5ac90cf01"
   },
   "outputs": [],
   "source": [
    "model.save_pretrained(cfg.output_dir)\n",
    "tokenizer.save_pretrained(cfg.output_dir)\n",
    "print(f\"Model and tokenizer saved to {cfg.output_dir}\")"
   ]
  },
  {
   "cell_type": "code",
   "execution_count": null,
   "metadata": {
    "colab": {
     "base_uri": "https://localhost:8080/",
     "height": 89
    },
    "id": "_vDtutTovCFD",
    "outputId": "7bebc70e-6565-4a2a-f270-2f3e66ffffa6"
   },
   "outputs": [],
   "source": [
    "import pandas as pd\n",
    "from IPython.display import display\n",
    "\n",
    "eval_df = pd.DataFrame([eval_results])\n",
    "display(eval_df)\n"
   ]
  },
  {
   "cell_type": "code",
   "execution_count": null,
   "metadata": {
    "colab": {
     "base_uri": "https://localhost:8080/"
    },
    "id": "G5p_k5Dk1WfY",
    "outputId": "9a8e3a41-96d1-4f86-d01a-cfde8e041a2e"
   },
   "outputs": [],
   "source": [
    "!zip -r model_output.zip /content/model_output"
   ]
  }
 ],
 "metadata": {
  "accelerator": "GPU",
  "colab": {
   "gpuType": "T4",
   "provenance": []
  },
  "kernelspec": {
   "display_name": "Python 3",
   "name": "python3"
  },
  "language_info": {
   "name": "python"
  }
 },
 "nbformat": 4,
 "nbformat_minor": 0
}
